{
 "cells": [
  {
   "cell_type": "code",
   "execution_count": 1,
   "metadata": {
    "collapsed": true
   },
   "outputs": [],
   "source": [
    "import turtle as t\n",
    "\n",
    "d = 100        # 변수 d에 값 100을 저장합니다(수치를 바꾸면 삼각형의 크기가 변합니다).\n",
    "\n",
    "# 삼각형 그리기\n",
    "t.forward(d)    # 거북이 d만큼 앞으로 이동\n",
    "t.left(120)      # 거북이 왼쪽으로 120도 회전\n",
    "t.forward(d)\n",
    "t.left(120)\n",
    "t.forward(d)\n",
    "t.left(120)"
   ]
  },
  {
   "cell_type": "code",
   "execution_count": null,
   "metadata": {
    "collapsed": true
   },
   "outputs": [],
   "source": []
  }
 ],
 "metadata": {
  "kernelspec": {
   "display_name": "Python 3",
   "language": "python",
   "name": "python3"
  },
  "language_info": {
   "codemirror_mode": {
    "name": "ipython",
    "version": 3
   },
   "file_extension": ".py",
   "mimetype": "text/x-python",
   "name": "python",
   "nbconvert_exporter": "python",
   "pygments_lexer": "ipython3",
   "version": "3.6.1"
  }
 },
 "nbformat": 4,
 "nbformat_minor": 2
}
