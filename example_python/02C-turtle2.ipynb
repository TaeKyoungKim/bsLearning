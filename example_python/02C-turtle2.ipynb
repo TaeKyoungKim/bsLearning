{
 "cells": [
  {
   "cell_type": "code",
   "execution_count": 36,
   "metadata": {},
   "outputs": [],
   "source": [
    "import turtle as t"
   ]
  },
  {
   "cell_type": "code",
   "execution_count": 37,
   "metadata": {},
   "outputs": [],
   "source": [
    "#삼각형 그리기\n",
    "def triangle():\n",
    "    t.color(\"red\")\n",
    "    t.forward(100)\n",
    "    t.left(120)\n",
    "    t.forward(100)\n",
    "    t.left(120)\n",
    "    t.forward(100)\n",
    "    t.left(120)"
   ]
  },
  {
   "cell_type": "code",
   "execution_count": 38,
   "metadata": {
    "collapsed": true
   },
   "outputs": [],
   "source": [
    "# 사각형 그리기\n",
    "def Quadrangle():\n",
    "    t.color(\"green\")   # <추가> 펜 색상으로 녹색으로 바꿉니다.\n",
    "    t.pensize(3)        # <추가> 펜 두께를 3으로 바꿉니다.\n",
    "    t.forward(100)\n",
    "    t.left(90)\n",
    "    t.forward(100)\n",
    "    t.left(90)\n",
    "    t.forward(100)\n",
    "    t.left(90)\n",
    "    t.forward(100)\n",
    "    t.left(90)\n",
    "# 원\n",
    "    t.color(\"blue\")     # <추가> 펜 색상을 파란색으로 바꿉니다.\n",
    "    t.pensize(5)        # <추가> 펜 두께를 5로 바꿉니다.\n",
    "    t.circle(50)"
   ]
  },
  {
   "cell_type": "code",
   "execution_count": 39,
   "metadata": {
    "collapsed": true
   },
   "outputs": [],
   "source": [
    "play1 = triangle()\n",
    "play2 = Quadrangle()"
   ]
  },
  {
   "cell_type": "code",
   "execution_count": 40,
   "metadata": {},
   "outputs": [],
   "source": [
    "a=[]\n",
    "if a is not None :\n",
    "    play1\n",
    "    \n",
    "else:\n",
    "    play2"
   ]
  },
  {
   "cell_type": "code",
   "execution_count": null,
   "metadata": {
    "collapsed": true
   },
   "outputs": [],
   "source": []
  },
  {
   "cell_type": "code",
   "execution_count": null,
   "metadata": {
    "collapsed": true
   },
   "outputs": [],
   "source": []
  }
 ],
 "metadata": {
  "kernelspec": {
   "display_name": "Python 3",
   "language": "python",
   "name": "python3"
  },
  "language_info": {
   "codemirror_mode": {
    "name": "ipython",
    "version": 3
   },
   "file_extension": ".py",
   "mimetype": "text/x-python",
   "name": "python",
   "nbconvert_exporter": "python",
   "pygments_lexer": "ipython3",
   "version": "3.6.1"
  }
 },
 "nbformat": 4,
 "nbformat_minor": 2
}
