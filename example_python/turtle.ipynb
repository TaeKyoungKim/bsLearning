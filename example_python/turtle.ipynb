{
 "cells": [
  {
   "cell_type": "code",
   "execution_count": 1,
   "metadata": {
    "collapsed": true
   },
   "outputs": [],
   "source": [
    "# 반복 기능으로 도형을 그리는 프로그램\n",
    "import turtle as t\n",
    "\n",
    "# 삼각형 그리기\n",
    "for x in range(3):       # 세 번 반복합니다.\n",
    "    t.forward(100)       # 거북이 100만큼 앞으로 이동합니다.\n",
    "    t.left(120)          # 거북이 왼쪽으로 120도 회전합니다.\n",
    "\n",
    "# 사각형 그리기\n",
    "for x in range(4):       # 네 번 반복합니다.\n",
    "    t.forward(100)       # 거북이 100만큼 앞으로 이동합니다.\n",
    "    t.left(90)           # 거북이 왼쪽으로 90도 회전합니다.\n",
    "\n",
    "# 원 그리기\n",
    "t.circle(50)             # 반지름이 50인 원을 "
   ]
  },
  {
   "cell_type": "code",
   "execution_count": 1,
   "metadata": {},
   "outputs": [],
   "source": [
    "import turtle as t\n",
    "def reDrawing():\n",
    "    for x in range(3):\n",
    "        t.forward(100)\n",
    "        t.left(120)\n",
    "        \n",
    "    for x in range(4):\n",
    "        t.forward(100)\n",
    "        t.left(90)\n",
    "        \n",
    "    t.circle(50)"
   ]
  },
  {
   "cell_type": "code",
   "execution_count": 2,
   "metadata": {},
   "outputs": [],
   "source": [
    "for i in range(3):\n",
    "    reDrawing()\n",
    "    "
   ]
  },
  {
   "cell_type": "code",
   "execution_count": null,
   "metadata": {
    "collapsed": true
   },
   "outputs": [],
   "source": []
  }
 ],
 "metadata": {
  "kernelspec": {
   "display_name": "Python 3",
   "language": "python",
   "name": "python3"
  },
  "language_info": {
   "codemirror_mode": {
    "name": "ipython",
    "version": 3
   },
   "file_extension": ".py",
   "mimetype": "text/x-python",
   "name": "python",
   "nbconvert_exporter": "python",
   "pygments_lexer": "ipython3",
   "version": "3.6.1"
  }
 },
 "nbformat": 4,
 "nbformat_minor": 2
}
